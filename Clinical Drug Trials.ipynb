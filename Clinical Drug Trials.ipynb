{
  "cells": [
    {
      "cell_type": "markdown",
      "metadata": {},
      "source": [
        "# Clinical Drug Trials\n",
        "\n",
        "Romaisa Nadeem\n",
        "\n",
        "## Introduction\n",
        "\n",
        "Each year, new drugs are approved based on evaluations of their safety\n",
        "and effectiveness through clinical trials. Recently, there has been\n",
        "growing public interest in ensuring fair representation of various\n",
        "subgroups, such as women and racial minorities, in these trials. To\n",
        "address concerns about transparency and representation, the FDA has\n",
        "published Drug Trials Snapshot Summary Report (2015 and 2016) (2017) and\n",
        "the Drugs Trials Snapshots (2023).\n",
        "\n",
        "I will be exploring two datasets: Clinical Trials: Participant\n",
        "Demographics Dataset (2018) and the Drug Trials Snapshots (2023)\n",
        "dataset.\n",
        "\n",
        "## About the Dataset\n",
        "\n",
        "### Clinical Trials: Participant Demographics Dataset\n",
        "\n",
        "The Clinical Trials: Participant Demographic Data dataset covers\n",
        "demographic details for participants in clinical trials for FDA approved\n",
        "drugs between January 2015 and mid August 2018.\n",
        "\n",
        "The columns include:\n",
        "\n",
        "-   **Brand Name**: The commercial name of each drug in the clinical\n",
        "    trials.\n",
        "\n",
        "-   **Drug Indication**: The medical condition the drug is intended to\n",
        "    treat.\n",
        "\n",
        "-   **Percentage of Women**: The proportion of women participants in\n",
        "    each trial.\n",
        "\n",
        "-   **Percentage by Race**: Breakdown of participants by race,\n",
        "    including:\n",
        "\n",
        "    -   **White**\n",
        "    -   **Black or African American**\n",
        "    -   **Asian**\n",
        "    -   **Other**: This category aggregates other races, including\n",
        "        American Indian/Alaska Native, Native Hawaiian/Other Pacific\n",
        "        Islander, mixed races, unknown, and unreported.\n",
        "\n",
        "-   **Percentage of Hispanic Ethnicity**: The percentage of Hispanic\n",
        "    participants, although this category wasn’t included in summary\n",
        "    reports for 2015 and 2016.\n",
        "\n",
        "-   **Percentage Age 65+**: The proportion of trial participants aged 65\n",
        "    and older.\n",
        "\n",
        "-   **Year**: The year the data was recorded or the drug was approved.\n",
        "\n",
        "-   The “other rate” column encompasses of any of the following:\n",
        "    American Indian/Alaska Native (AI/AN), Native Hawaiian or Other\n",
        "    Pacific Islander (NH/OPI), mixed race, multiple races, Unknown,\n",
        "    Unreported, and Other.\n",
        "\n",
        "For drugs approved in 2015 and 2016, percentages for the “Other”\n",
        "category were provided in FDA summary reports. For drugs approved in\n",
        "2017, ProPublica calculated this percentage by subtracting the sum of\n",
        "other categories from 100 percent. For 2018, ProPublica manually\n",
        "compiled this information for each individual drug.\n",
        "\n",
        "The categories “Hispanic” and “United States ethnicity” were not\n",
        "included in the FDA’s yearly summary reports for 2015 and 2016, although\n",
        "they sometimes appear in individual drug reports. This category includes\n",
        "one of the following labels: Hispanic, Not Hispanic, and\n",
        "Unknown/Unreported.\n",
        "\n",
        "### Drug Trials Snapshot Dataset\n",
        "\n",
        "This dataset is a record of drug trial snapshots from the FDA, covering\n",
        "details about each drug, including its approval information and intended\n",
        "use.\n",
        "\n",
        "The columns include:\n",
        "\n",
        "-   **Brand Name (Drug Trials Snapshot)**: Lists the brand names of\n",
        "    drugs that have undergone clinical trials.\n",
        "\n",
        "-   **Drug Name**: The chemical or generic name of each drug.\n",
        "\n",
        "-   **Original Date of FDA Approval**: The date when the drug received\n",
        "    its first FDA approval.\n",
        "\n",
        "-   **FDA Approved Use on Original Approval Date**: Describes the\n",
        "    specific medical condition or purpose for which the drug was\n",
        "    approved by the FDA initially.\n",
        "\n",
        "-   **Brand Name (Prescribing Information)**: Another brand name column,\n",
        "    possibly reflecting the name used in prescribing information.\n",
        "\n",
        "## Questions\n",
        "\n",
        "In this project, I intend to explore gender and racial biases in\n",
        "clinical drug trials.\n",
        "\n",
        "I will do show by exploring the following questions:\n",
        "\n",
        "-   **Are there any potential biases in clinical trials based on age,\n",
        "    gender or race?**\n",
        "\n",
        "-   **Which demographic groups receive the greatest benefit from the\n",
        "    drugs being tested in clinical trials?**\n",
        "\n",
        "While these questions are interesting, they also have very important\n",
        "medical and societal implications. Addressing these biases is essential\n",
        "for promoting equality in healthcare, as unrecognized biases in clinical\n",
        "trials may lead to significant disparities in treatment outcomes,\n",
        "sometimes with severe consequences for patient health and safety.\n",
        "Ensuring fair representation in clinical trials is a step toward more\n",
        "equitable and effective medical treatments for all groups.\n",
        "\n",
        "## Clinical Trials: Participant Demographics Dataset\n",
        "\n",
        "## Iteration 1\n",
        "\n",
        "### Phase 1\n",
        "\n",
        "1.  Read the csv file into R\n",
        "    -   Specify column types\n",
        "2.  Make the column names lowercase\n",
        "3.  Drop Hispanic and USA columns\n",
        "    -   Pivot race columns to longer\n",
        "4.  Pivot Age columns to longer\n",
        "5.  Identify UIDs\n",
        "    -   Sort tibble by UID\n",
        "6.  Display final tibble\n",
        "\n",
        "### Phase 2"
      ],
      "id": "06443aa3-9b47-4374-8f7b-54bcf30241fe"
    },
    {
      "cell_type": "code",
      "execution_count": null,
      "metadata": {},
      "outputs": [
        {
          "output_type": "stream",
          "name": "stdout",
          "text": [
            "Rows: 155\n",
            "Columns: 14\n",
            "$ `BRAND NAME`                                                                                                                                <chr> …\n",
            "$ INDICATION                                                                                                                                  <chr> …\n",
            "$ WOMEN                                                                                                                                       <chr> …\n",
            "$ WHITE                                                                                                                                       <chr> …\n",
            "$ `BLACK OR AFRICAN AMERICAN`                                                                                                                 <chr> …\n",
            "$ ASIAN                                                                                                                                       <chr> …\n",
            "$ `ALL OTHER (Aggregated):\\nAmerican Indian or Alaska Native (AI/AN), Native Hawaiian or Other Pacific Islander (NH/OPI), Unknown/Unreported` <chr> …\n",
            "$ `HISPANIC OR LATINO (2017 AND LATER ONLY)`                                                                                                  <chr> …\n",
            "$ `UNITED STATES (2017 ONLY)`                                                                                                                 <chr> …\n",
            "$ `AGE\\n65 and OLDER`                                                                                                                         <chr> …\n",
            "$ `AGE\\n75 and OLDER`                                                                                                                         <chr> …\n",
            "$ `AGE\\n80 and OLDER`                                                                                                                         <chr> …\n",
            "$ YEAR                                                                                                                                        <chr> …\n",
            "$ NOTES                                                                                                                                       <chr> …"
          ]
        }
      ],
      "source": [
        "# 1. Read in the 1st CSV file. \n",
        "clinical_data <- read_csv(\"./clinical_trials_data.csv\",\n",
        "col_types = \"cccccccccccccc\",\n",
        "na = c(\"N/A\", \"NR\", \"Not reported\")\n",
        ")\n",
        "clinical_data %>%\n",
        "glimpse()"
      ],
      "id": "04e01816-f19f-4cd2-8893-29756092fd3b"
    },
    {
      "cell_type": "code",
      "execution_count": null,
      "metadata": {},
      "outputs": [],
      "source": [
        "# 2. Make column names lowercase\n",
        "clinical_data %<>% rename_with(tolower)"
      ],
      "id": "101a4f8a-419c-40e1-b0a5-aa3eae0abe2d"
    },
    {
      "cell_type": "code",
      "execution_count": null,
      "metadata": {},
      "outputs": [],
      "source": [
        "# 3.Dropping Hispanic and USA data from 2017 and later\n",
        "clinical_data %<>%\n",
        "mutate(`hispanic or latino (2017 and later only)` = NULL, `united states (2017 only)` = NULL)\n",
        "\n",
        "# Pivot race\n",
        "clinical_data %<>%\n",
        "pivot_longer(!c(women, `brand name`, indication, year, notes, `age\n",
        "65 and older`, `age\n",
        "75 and older`, `age\n",
        "80 and older`), names_to = \"race\", values_to = \"percent race\")"
      ],
      "id": "bd65afca-d8ab-4a83-ad0e-5c921375aab3"
    },
    {
      "cell_type": "markdown",
      "metadata": {},
      "source": [
        "The Hispanic and USA columns are being dropped because they are missing\n",
        "values for more than 50% of the dataset."
      ],
      "id": "fe39c7aa-659d-45c7-924c-3b058d6e641c"
    },
    {
      "cell_type": "code",
      "execution_count": null,
      "metadata": {},
      "outputs": [],
      "source": [
        "# 4. Pivot age\n",
        "clinical_data %<>%\n",
        "pivot_longer(!c(\n",
        "  women, `brand name`, indication, year, notes, race,\n",
        "`percent race`\n",
        "), names_to = \"age\", values_to = \"percent age\")"
      ],
      "id": "f9199385-b81b-4f03-b287-ae71adf202ce"
    },
    {
      "cell_type": "code",
      "execution_count": null,
      "metadata": {},
      "outputs": [
        {
          "output_type": "stream",
          "name": "stdout",
          "text": [
            "Rows: 1,860\n",
            "Columns: 9\n",
            "$ `brand name`   <chr> \"ADDYI\", \"ADDYI\", \"ADDYI\", \"ADDYI\", \"ADDYI\", \"ADDYI\", \"…\n",
            "$ indication     <chr> \"Treatment of acquired, generalized hypoactive sexual d…\n",
            "$ women          <chr> \"100%\", \"100%\", \"100%\", \"100%\", \"100%\", \"100%\", \"100%\",…\n",
            "$ year           <chr> \"2015\", \"2015\", \"2015\", \"2015\", \"2015\", \"2015\", \"2015\",…\n",
            "$ notes          <chr> \"\", \"\", \"\", \"\", \"\", \"\", \"\", \"\", \"\", \"\", \"\", \"\", \"\", \"\",…\n",
            "$ race           <chr> \"white\", \"white\", \"white\", \"black or african american\",…\n",
            "$ `percent race` <chr> \"89%\", \"89%\", \"89%\", \"8%\", \"8%\", \"8%\", \"1%\", \"1%\", \"1%\"…\n",
            "$ age            <chr> \"age\\n65 and older\", \"age\\n75 and older\", \"age\\n80 and …\n",
            "$ `percent age`  <chr> \"0%\", \"0%\", \"0%\", \"0%\", \"0%\", \"0%\", \"0%\", \"0%\", \"0%\", \"…"
          ]
        }
      ],
      "source": [
        "clinical_data %>%\n",
        "glimpse()"
      ],
      "id": "0a659a02-8f36-45ca-8f6f-6cba29be7d42"
    },
    {
      "cell_type": "code",
      "execution_count": null,
      "metadata": {},
      "outputs": [
        {
          "output_type": "stream",
          "name": "stdout",
          "text": [
            "[1] \"[0 x 6]\""
          ]
        }
      ],
      "source": [
        "# 5. Identify UID\n",
        "clinical_data %>%\n",
        "count(`brand name`, indication, year, race, age) %>%\n",
        "filter(n > 1) %>%\n",
        "dim_desc()"
      ],
      "id": "c9659853-3bff-4235-a203-ff173646d4e0"
    },
    {
      "cell_type": "markdown",
      "metadata": {},
      "source": [
        "Looks like a good UID."
      ],
      "id": "f537e423-a8e6-4214-b671-58554bff27ad"
    },
    {
      "cell_type": "code",
      "execution_count": null,
      "metadata": {},
      "outputs": [
        {
          "output_type": "stream",
          "name": "stdout",
          "text": [
            "Rows: 1,860\n",
            "Columns: 9\n",
            "$ `brand name`   <chr> \"ADDYI\", \"ADDYI\", \"ADDYI\", \"ADDYI\", \"ADDYI\", \"ADDYI\", \"…\n",
            "$ indication     <chr> \"Treatment of acquired, generalized hypoactive sexual d…\n",
            "$ women          <chr> \"100%\", \"100%\", \"100%\", \"100%\", \"100%\", \"100%\", \"100%\",…\n",
            "$ year           <chr> \"2015\", \"2015\", \"2015\", \"2015\", \"2015\", \"2015\", \"2015\",…\n",
            "$ notes          <chr> \"\", \"\", \"\", \"\", \"\", \"\", \"\", \"\", \"\", \"\", \"\", \"\", \"\", \"\",…\n",
            "$ race           <chr> \"all other (aggregated):\\namerican indian or alaska nat…\n",
            "$ `percent race` <chr> \"2%\", \"2%\", \"2%\", \"1%\", \"1%\", \"1%\", \"8%\", \"8%\", \"8%\", \"…\n",
            "$ age            <chr> \"age\\n65 and older\", \"age\\n75 and older\", \"age\\n80 and …\n",
            "$ `percent age`  <chr> \"0%\", \"0%\", \"0%\", \"0%\", \"0%\", \"0%\", \"0%\", \"0%\", \"0%\", \"…"
          ]
        }
      ],
      "source": [
        "# Sort tibble by uid\n",
        "clinical_data %<>% arrange(`brand name`, indication, year, race, age)\n",
        "\n",
        "clinical_data %>% glimpse()"
      ],
      "id": "c02a4517-dde2-40f1-b78d-fa7136902d3a"
    },
    {
      "cell_type": "code",
      "execution_count": null,
      "metadata": {},
      "outputs": [
        {
          "output_type": "display_data",
          "metadata": {},
          "data": {}
        }
      ],
      "source": [
        "# 6. Final tibble\n",
        "clinical_data %>%\n",
        "  select(`brand name`, women, year, `percent age`, `percent race`) %>%\n",
        "  slice_sample(n = 5) %>% \n",
        "  kable()"
      ],
      "id": "dce9113a-188a-444f-940f-d7206f7f7e7e"
    },
    {
      "cell_type": "markdown",
      "metadata": {},
      "source": [
        "## Clinical Trials: Participant Demographics Dataset\n",
        "\n",
        "## Iteration 2\n",
        "\n",
        "### Phase 1\n",
        "\n",
        "1.  Drop notes column\n",
        "2.  Convert columns to correct data types\n",
        "    -   year to date type\n",
        "    -   brand name to factor\n",
        "    -   race to factor (after renaming “other” values)\n",
        "    -   age to factor (after renaming “age” values)\n",
        "3.  Standardize indication column\n",
        "    -   remove filler words\n",
        "    -   keep key words and disease names\n",
        "4.  Remove “%” and “\\<” symbols\n",
        "5.  Convert percentages to numerics\n",
        "6.  Drop NAs\n",
        "7.  Display final tibble\n",
        "\n",
        "### Phase 2"
      ],
      "id": "44ef1050-e962-4ffa-8e5f-d80ef942796d"
    },
    {
      "cell_type": "code",
      "execution_count": null,
      "metadata": {},
      "outputs": [],
      "source": [
        "# 1. Dropping notes column\n",
        "clinical_data %<>%\n",
        "mutate(notes = NULL)"
      ],
      "id": "f7ac9eab-6815-4820-95cf-611a9eeb02f5"
    },
    {
      "cell_type": "code",
      "execution_count": null,
      "metadata": {},
      "outputs": [
        {
          "output_type": "stream",
          "name": "stdout",
          "text": [
            "Rows: 1,860\n",
            "Columns: 8\n",
            "$ `brand name`   <fct> ADDYI, ADDYI, ADDYI, ADDYI, ADDYI, ADDYI, ADDYI, ADDYI,…\n",
            "$ indication     <chr> \"Treatment of acquired, generalized hypoactive sexual d…\n",
            "$ women          <chr> \"100%\", \"100%\", \"100%\", \"100%\", \"100%\", \"100%\", \"100%\",…\n",
            "$ year           <date> 2015-01-01, 2015-01-01, 2015-01-01, 2015-01-01, 2015-0…\n",
            "$ race           <fct> other, other, other, asian, asian, asian, black, black,…\n",
            "$ `percent race` <chr> \"2%\", \"2%\", \"2%\", \"1%\", \"1%\", \"1%\", \"8%\", \"8%\", \"8%\", \"…\n",
            "$ age            <chr> \"age\\n65 and older\", \"age\\n75 and older\", \"age\\n80 and …\n",
            "$ `percent age`  <chr> \"0%\", \"0%\", \"0%\", \"0%\", \"0%\", \"0%\", \"0%\", \"0%\", \"0%\", \"…"
          ]
        }
      ],
      "source": [
        "# 2. Converting data types\n",
        "clinical_data %<>% \n",
        "  # Convert year column to date\n",
        "  mutate(\n",
        "    year = make_date(year = year),\n",
        "    # Convert brand name column to factor\n",
        "    `brand name` = as_factor(`brand name`),\n",
        "    # Shorten \"all other\" data in race column\n",
        "    race = if_else(str_detect(race, \"^all\"), \"other\", race), \n",
        "    # Shorten \"black or african america\" data in race column\n",
        "    race = if_else(str_detect(race, \"^black\"), \"black\", race), \n",
        "    # Convert race to factor\n",
        "    race = as_factor(race)\n",
        "  )\n",
        "\n",
        "clinical_data %>%\n",
        "  glimpse()"
      ],
      "id": "ea6fac48-6dd4-4522-891c-b0e2e4319896"
    },
    {
      "cell_type": "code",
      "execution_count": null,
      "metadata": {},
      "outputs": [
        {
          "output_type": "stream",
          "name": "stdout",
          "text": [
            "Rows: 1,860\n",
            "Columns: 8\n",
            "$ `brand name`   <fct> ADDYI, ADDYI, ADDYI, ADDYI, ADDYI, ADDYI, ADDYI, ADDYI,…\n",
            "$ indication     <chr> \"Treatment of acquired, generalized hypoactive sexual d…\n",
            "$ women          <chr> \"100%\", \"100%\", \"100%\", \"100%\", \"100%\", \"100%\", \"100%\",…\n",
            "$ year           <date> 2015-01-01, 2015-01-01, 2015-01-01, 2015-01-01, 2015-0…\n",
            "$ race           <fct> other, other, other, asian, asian, asian, black, black,…\n",
            "$ `percent race` <chr> \"2%\", \"2%\", \"2%\", \"1%\", \"1%\", \"1%\", \"8%\", \"8%\", \"8%\", \"…\n",
            "$ age            <fct> 65 to 74, 75 to 79, 80 and up, 65 to 74, 75 to 79, 80 a…\n",
            "$ `percent age`  <chr> \"0%\", \"0%\", \"0%\", \"0%\", \"0%\", \"0%\", \"0%\", \"0%\", \"0%\", \"…"
          ]
        }
      ],
      "source": [
        "# 2. Continued... Shorten age data and convert to factor\n",
        "clinical_data %<>%\n",
        "mutate(\n",
        "age = case_when(\n",
        "age == \"age\\n65 and older\" ~ \"65 to 74\",\n",
        "age == \"age\\n75 and older\" ~ \"75 to 79\",\n",
        "age == \"age\\n80 and older\" ~ \"80 and up\",\n",
        "TRUE ~ age\n",
        "),\n",
        "age = as_factor(age)\n",
        ")\n",
        "\n",
        "clinical_data %>%\n",
        "glimpse()"
      ],
      "id": "9b891aeb-ca90-4055-a5fd-6695f0a508ee"
    },
    {
      "cell_type": "code",
      "execution_count": null,
      "metadata": {},
      "outputs": [
        {
          "output_type": "stream",
          "name": "stdout",
          "text": [
            "Rows: 1,860\n",
            "Columns: 8\n",
            "$ `brand name`   <fct> ADDYI, ADDYI, ADDYI, ADDYI, ADDYI, ADDYI, ADDYI, ADDYI,…\n",
            "$ indication     <chr> \"treatment of acquired, generalized hypoactive sexual d…\n",
            "$ women          <dbl> 100, 100, 100, 100, 100, 100, 100, 100, 100, 100, 100, …\n",
            "$ year           <date> 2015-01-01, 2015-01-01, 2015-01-01, 2015-01-01, 2015-0…\n",
            "$ race           <fct> other, other, other, asian, asian, asian, black, black,…\n",
            "$ `percent race` <dbl> 2, 2, 2, 1, 1, 1, 8, 8, 8, 89, 89, 89, 2, 2, 2, 32, 32,…\n",
            "$ age            <fct> 65 to 74, 75 to 79, 80 and up, 65 to 74, 75 to 79, 80 a…\n",
            "$ `percent age`  <dbl> 0, 0, 0, 0, 0, 0, 0, 0, 0, 0, 0, 0, 19, NA, NA, 19, NA,…"
          ]
        }
      ],
      "source": [
        "# 3: Standardize indication column, keeping key words\n",
        "clinical_data <- clinical_data %>%\n",
        "  mutate(\n",
        "    indication = case_when(\n",
        "      str_detect(indication, \"[Tt]reatment\") ~\n",
        "        if_else(str_detect(indication, \"\\\\([ˆ()]+\\\\)\"),\n",
        "                str_c(\"treatment, \", str_extract(indication, \"\\\\([ˆ()]+\\\\)\")),\n",
        "                str_to_lower(indication)),\n",
        "      str_detect(indication, \"[Pp]revent\") ~\n",
        "        if_else(str_detect(indication, \"\\\\([ˆ()]+\\\\)\"),\n",
        "                str_c(\"preventative treatment, \", str_extract(indication, \"\\\\([ˆ()]+\\\\)\")),\n",
        "                str_to_lower(indication)),\n",
        "      TRUE ~ indication\n",
        "    ),\n",
        "    # Removing filler words and keeping disease names\n",
        "    indication = if_else(str_detect(indication, \"[Ff]or\"), str_remove_all(indication, \"[Ff]or\"), indication),\n",
        "    indication = if_else(str_detect(indication, \"\\\\.\"), str_remove(indication, \"\\\\.$\"), indication),\n",
        "    indication = if_else(str_detect(indication, \"associated with\"), str_remove_all(indication, \"associated with \"), indication),\n",
        "    indication = if_else(str_detect(indication, \"adults who\"), str_remove_all(indication, \"(, adults who).*\"), indication),\n",
        "    indication = if_else(str_detect(indication, \"patients two\"), str_remove_all(indication, \"(, patients two).*\"), indication)\n",
        "  )\n",
        "\n",
        "# 4: Removing \"%\" and \"<\" symbols and converting to numeric\n",
        "clinical_data <- clinical_data %>%\n",
        "  mutate(\n",
        "    women = as.numeric(str_remove_all(women, \"[%<]\")),\n",
        "    `percent race` = as.numeric(str_remove_all(`percent race`, \"[%<]\")),\n",
        "    `percent age` = as.numeric(str_remove_all(`percent age`, \"[%<]\"))\n",
        "  )\n",
        "\n",
        "\n",
        "clinical_data %>%\n",
        "glimpse()"
      ],
      "id": "a32791f9-56a8-4013-8d43-4d9e8ae654ad"
    },
    {
      "cell_type": "code",
      "execution_count": null,
      "metadata": {},
      "outputs": [
        {
          "output_type": "stream",
          "name": "stdout",
          "text": [
            "# A tibble: 99 × 6\n",
            "   `brand name` other asian black white total_percent\n",
            "   <fct>        <dbl> <dbl> <dbl> <dbl>         <dbl>\n",
            " 1 ADLYXIN§         2    32     3    64           101\n",
            " 2 ADLYXIN§         2    32     3    64           101\n",
            " 3 ADLYXIN§         2    32     3    64           101\n",
            " 4 AKYNZEO          1     1     1   100           103\n",
            " 5 AKYNZEO          1     1     1   100           103\n",
            " 6 AKYNZEO          1     1     1   100           103\n",
            " 7 ALECENSA         7    18     2    74           101\n",
            " 8 ALECENSA         7    18     2    74           101\n",
            " 9 ALECENSA         7    18     2    74           101\n",
            "10 ARISTADA         1    13    40    47           101\n",
            "# ℹ 89 more rows"
          ]
        }
      ],
      "source": [
        "# Check percentages\n",
        "temp <- clinical_data %>%\n",
        "pivot_wider(names_from = race, values_from = `percent race`) %>%\n",
        "rowwise() %>%\n",
        "mutate(total_percent = sum(c(other, asian, black, white))) %>%\n",
        "ungroup()\n",
        "temp %>%\n",
        "select(`brand name`, other, asian, black, white, total_percent) %>%\n",
        "filter(total_percent != 100)"
      ],
      "id": "23857447-3dbc-4084-87dc-df5ad48c825a"
    },
    {
      "cell_type": "markdown",
      "metadata": {},
      "source": [
        "As seen above, the sum of the race columns does not add up exactly a\n",
        "100%. This may be due to a error in data collection.\n",
        "\n",
        "I will leave the data as it is."
      ],
      "id": "f4c54553-d1ab-447f-88ca-cea82765486c"
    },
    {
      "cell_type": "code",
      "execution_count": null,
      "metadata": {},
      "outputs": [
        {
          "output_type": "stream",
          "name": "stdout",
          "text": [
            "    brand name    indication            women             year           \n",
            " AVYCAZ  :  24   Length:1860        Min.   :  0.00   Min.   :2015-01-01  \n",
            " CHOLBAM :  24   Class :character   1st Qu.: 37.00   1st Qu.:2015-01-01  \n",
            " CRESEMBA:  24   Mode  :character   Median : 44.00   Median :2016-01-01  \n",
            " REXULTI :  24                      Mean   : 47.96   Mean   :2016-04-21  \n",
            " RYDAPT  :  24                      3rd Qu.: 59.00   3rd Qu.:2017-01-01  \n",
            " SAVAYSA :  24                      Max.   :100.00   Max.   :2018-01-01  \n",
            " (Other) :1716                                                           \n",
            "    race      percent race           age       percent age   \n",
            " other:465   Min.   :  0.00   65 to 74 :620   Min.   : 0.00  \n",
            " asian:465   1st Qu.:  2.00   75 to 79 :620   1st Qu.: 1.00  \n",
            " black:465   Median :  7.00   80 and up:620   Median : 7.00  \n",
            " white:465   Mean   : 25.20                   Mean   :16.92  \n",
            "             3rd Qu.: 46.25                   3rd Qu.:29.00  \n",
            "             Max.   :100.00                   Max.   :90.00  \n",
            "             NA's   :24                       NA's   :856    "
          ]
        }
      ],
      "source": [
        "# 5. Check summary\n",
        "clinical_data %>%\n",
        "summary()"
      ],
      "id": "eea37d93-9449-4453-a0b4-213eb4e6983f"
    },
    {
      "cell_type": "code",
      "execution_count": null,
      "metadata": {},
      "outputs": [
        {
          "output_type": "stream",
          "name": "stdout",
          "text": [
            "Rows: 995\n",
            "Columns: 8\n",
            "$ `brand name`   <fct> ADDYI, ADDYI, ADDYI, ADDYI, ADDYI, ADDYI, ADDYI, ADDYI,…\n",
            "$ indication     <chr> \"treatment of acquired, generalized hypoactive sexual d…\n",
            "$ women          <dbl> 100, 100, 100, 100, 100, 100, 100, 100, 100, 100, 100, …\n",
            "$ year           <date> 2015-01-01, 2015-01-01, 2015-01-01, 2015-01-01, 2015-0…\n",
            "$ race           <fct> other, other, other, asian, asian, asian, black, black,…\n",
            "$ `percent race` <dbl> 2, 2, 2, 1, 1, 1, 8, 8, 8, 89, 89, 89, 2, 32, 3, 64, 8,…\n",
            "$ age            <fct> 65 to 74, 75 to 79, 80 and up, 65 to 74, 75 to 79, 80 a…\n",
            "$ `percent age`  <dbl> 0, 0, 0, 0, 0, 0, 0, 0, 0, 0, 0, 0, 19, 19, 19, 19, 34,…"
          ]
        }
      ],
      "source": [
        "# 5. Drop NAs\n",
        "clinical_data %<>%\n",
        "drop_na()\n",
        "\n",
        "clinical_data %>%\n",
        "glimpse()"
      ],
      "id": "3c6c160c-e140-4606-b884-b9ff612c5f11"
    },
    {
      "cell_type": "markdown",
      "metadata": {},
      "source": [
        "There are no outliers in the data, and 865 rows were dropped."
      ],
      "id": "62e6afac-8ac9-45d2-98bd-ceab05113624"
    },
    {
      "cell_type": "code",
      "execution_count": null,
      "metadata": {},
      "outputs": [
        {
          "output_type": "display_data",
          "metadata": {},
          "data": {}
        }
      ],
      "source": [
        "# 7. Display final tibble \n",
        "clinical_data %>%\n",
        "slice_sample(n = 5) %>%\n",
        "kable()"
      ],
      "id": "416497a4-e1ac-49ec-b5f6-43e029a59531"
    },
    {
      "cell_type": "markdown",
      "metadata": {},
      "source": [
        "## Drug Trials Snapshots Dataset\n",
        "\n",
        "## Iteration 3\n",
        "\n",
        "### Phase 1\n",
        "\n",
        "1.  Read the csv file into R\n",
        "    -   Skip first column\n",
        "2.  Change column names to lower\n",
        "3.  Drop brand name prescribing information column\n",
        "4.  Identify UID\n",
        "    -   Sort tibble by UID\n",
        "5.  Display final tibble\n",
        "\n",
        "### Phase 2"
      ],
      "id": "9f59b50c-5b09-494c-9fb4-6c665104ed3b"
    },
    {
      "cell_type": "code",
      "execution_count": null,
      "metadata": {},
      "outputs": [
        {
          "output_type": "stream",
          "name": "stdout",
          "text": [
            "Rows: 447\n",
            "Columns: 5\n",
            "$ `Brand Name (Drug Trials Snapshot)`           <chr> \"NEMLUVIO\", \"YORVIPATH\",…\n",
            "$ `Drug Name`                                   <chr> \"nemolizumab-ilto\", \"pal…\n",
            "$ `Original Date of FDA Approval`               <chr> \"August 12, 2024\", \"Augu…\n",
            "$ `FDA Approved Use on Original Approval Date*` <chr> \"To treat prurigo nodula…\n",
            "$ `Brand Name (Prescribing Information)`        <chr> \"Nemluvio\", \"Yorvipath\",…"
          ]
        }
      ],
      "source": [
        "# 1. Read csv\n",
        "drug_snapshots <- read_csv(\"./drug_trials_snapshot_fda.csv\", skip = 1, show_col_types = FALSE)\n",
        "\n",
        "drug_snapshots %>% \n",
        "  glimpse()"
      ],
      "id": "01cb4f05-498d-4438-9fdd-f30ad406ea12"
    },
    {
      "cell_type": "code",
      "execution_count": null,
      "metadata": {},
      "outputs": [
        {
          "output_type": "stream",
          "name": "stdout",
          "text": [
            "Rows: 447\n",
            "Columns: 5\n",
            "$ `brand name (drug trials snapshot)`           <chr> \"NEMLUVIO\", \"YORVIPATH\",…\n",
            "$ `drug name`                                   <chr> \"nemolizumab-ilto\", \"pal…\n",
            "$ `original date of fda approval`               <chr> \"August 12, 2024\", \"Augu…\n",
            "$ `fda approved use on original approval date*` <chr> \"To treat prurigo nodula…\n",
            "$ `brand name (prescribing information)`        <chr> \"Nemluvio\", \"Yorvipath\",…"
          ]
        }
      ],
      "source": [
        "# 2. Changing column names to lowercase\n",
        "drug_snapshots %<>% rename_with(tolower)\n",
        "\n",
        "drug_snapshots %>% \n",
        "  glimpse()"
      ],
      "id": "1c0439ec-dd82-4b9c-865e-65aee9368dcd"
    },
    {
      "cell_type": "code",
      "execution_count": null,
      "metadata": {},
      "outputs": [],
      "source": [
        "# 3. Drop prescribing name column\n",
        "drug_snapshots %<>% mutate(\n",
        "`brand name (prescribing information)` = NULL\n",
        ")"
      ],
      "id": "69028289-2ecb-4821-9b24-25c573e565a2"
    },
    {
      "cell_type": "markdown",
      "metadata": {},
      "source": [
        "Dropping this column because it does not provide any useful information."
      ],
      "id": "00b0b4d8-832b-4053-b739-b714c7d88293"
    },
    {
      "cell_type": "code",
      "execution_count": null,
      "metadata": {},
      "outputs": [
        {
          "output_type": "stream",
          "name": "stdout",
          "text": [
            "# A tibble: 0 × 3\n",
            "# ℹ 3 variables: original date of fda approval <chr>,\n",
            "#   fda approved use on original approval date* <chr>, n <int>"
          ]
        }
      ],
      "source": [
        "# 4. Identify uid\n",
        "drug_snapshots %>%\n",
        "count(`original date of fda approval`, `fda approved use on original approval date*`) %>%\n",
        "filter(n > 1)"
      ],
      "id": "d94587dc-f9b3-4c40-b72d-d145c8250bfa"
    },
    {
      "cell_type": "markdown",
      "metadata": {},
      "source": [
        "Seems to be a good UID."
      ],
      "id": "bf415c58-a90a-43d3-91ef-dd0e9232d5af"
    },
    {
      "cell_type": "code",
      "execution_count": null,
      "metadata": {},
      "outputs": [
        {
          "output_type": "stream",
          "name": "stdout",
          "text": [
            "Rows: 447\n",
            "Columns: 4\n",
            "$ `brand name (drug trials snapshot)`           <chr> \"KOSELUGO\", \"VENCLEXTA\",…\n",
            "$ `drug name`                                   <chr> \"selumetinib\", \"venetocl…\n",
            "$ `original date of fda approval`               <chr> \"April 10,2020\", \"April …\n",
            "$ `fda approved use on original approval date*` <chr> \"For the treatment of pl…"
          ]
        }
      ],
      "source": [
        "# Sort tibble by uid\n",
        "drug_snapshots %<>% arrange(`original date of fda approval`, `fda approved use on original approval date*`)\n",
        "\n",
        "# Check structure\n",
        "drug_snapshots %>% glimpse()"
      ],
      "id": "4882c3ca-da94-4dc8-b1c4-91329d1cfcaa"
    },
    {
      "cell_type": "code",
      "execution_count": null,
      "metadata": {},
      "outputs": [
        {
          "output_type": "display_data",
          "metadata": {},
          "data": {}
        }
      ],
      "source": [
        "# 5. Final tibble\n",
        "drug_snapshots %>%\n",
        "select(`brand name (drug trials snapshot)`, `original date of fda approval`, `drug name`) %>%\n",
        "slice_sample(n = 4) %>%\n",
        "kable()"
      ],
      "id": "bd899c39-4afe-4c0a-8b9d-27b9b3276618"
    },
    {
      "cell_type": "markdown",
      "metadata": {},
      "source": [
        "## Drug Trials Snapshots Dataset\n",
        "\n",
        "## Iteration 4\n",
        "\n",
        "### Phase 1\n",
        "\n",
        "1.  Rename columns\n",
        "2.  Convert approval to date to date type\n",
        "3.  Standardize approved use column\n",
        "    -   Keep key words, remove filler words and keep disease names\n",
        "4.  Drop NAs\n",
        "5.  Display final tibble\n",
        "\n",
        "### Phase 2"
      ],
      "id": "70954ebb-a288-4280-b3bc-952663236fee"
    },
    {
      "cell_type": "code",
      "execution_count": null,
      "metadata": {},
      "outputs": [
        {
          "output_type": "stream",
          "name": "stdout",
          "text": [
            "Rows: 447\n",
            "Columns: 4\n",
            "$ `brand name`    <chr> \"KOSELUGO\", \"VENCLEXTA\", \"INGREZZA\", \"BALVERSA\", \"CORL…\n",
            "$ `drug name`     <chr> \"selumetinib\", \"venetoclax\", \"valbenazine\", \"erdafitin…\n",
            "$ `approval date` <chr> \"April 10,2020\", \"April 11, 2016\", \"April 11, 2017\", \"…\n",
            "$ `approved use`  <chr> \"For the treatment of plexiform neurofibroma\", \"Treatm…"
          ]
        }
      ],
      "source": [
        "# 1. Rename columns\n",
        "drug_snapshots %<>%\n",
        "rename(\n",
        "`approved use` = `fda approved use on original approval date*`,\n",
        "`approval date` = `original date of fda approval`,\n",
        "`brand name` = `brand name (drug trials snapshot)`\n",
        ")\n",
        "drug_snapshots %>%\n",
        "glimpse()"
      ],
      "id": "527cd98c-8649-43cc-989c-906b27875f61"
    },
    {
      "cell_type": "code",
      "execution_count": null,
      "metadata": {},
      "outputs": [
        {
          "output_type": "stream",
          "name": "stdout",
          "text": [
            "Rows: 447\n",
            "Columns: 4\n",
            "$ `brand name`    <chr> \"KOSELUGO\", \"VENCLEXTA\", \"INGREZZA\", \"BALVERSA\", \"CORL…\n",
            "$ `drug name`     <chr> \"selumetinib\", \"venetoclax\", \"valbenazine\", \"erdafitin…\n",
            "$ `approval date` <date> 2020-04-10, 2016-04-11, 2017-04-11, 2019-04-12, 2015-…\n",
            "$ `approved use`  <chr> \"For the treatment of plexiform neurofibroma\", \"Treatm…"
          ]
        }
      ],
      "source": [
        "# 2. Convert approval date to Date type\n",
        "drug_snapshots %<>%\n",
        "mutate(`approval date` = as.Date(`approval date`, format = \"%B %d, %Y\"))\n",
        "drug_snapshots %>%\n",
        "glimpse()"
      ],
      "id": "5ee5076a-11f9-4035-b21a-a63bafca065e"
    },
    {
      "cell_type": "code",
      "execution_count": null,
      "metadata": {},
      "outputs": [],
      "source": [
        "# 3. Standardize approved use column by keeping key words\n",
        "drug_snapshots %<>%\n",
        "  mutate(\n",
        "    `approved use` = case_when(\n",
        "      str_detect(`approved use`, \"[Tt]reatment\") ~\n",
        "        if_else(\n",
        "          str_detect(`approved use`, \"\\\\([^)]+\\\\)\"),\n",
        "          str_c(\"treatment, \", str_extract(`approved use`, \"\\\\([^)]+\\\\)\")),\n",
        "          str_to_lower(`approved use`)\n",
        "        ),\n",
        "      str_detect(`approved use`, \"[Pp]revent\") ~\n",
        "        if_else(\n",
        "          str_detect(`approved use`, \"\\\\([^)]+\\\\)\"),\n",
        "          str_c(\"preventative treatment, \", str_extract(`approved use`, \"\\\\([^)]+\\\\)\")),\n",
        "          str_to_lower(`approved use`)\n",
        "        ),\n",
        "      # Default case to keep `approved use` as it is\n",
        "      TRUE ~ `approved use`\n",
        "    )\n",
        "  )\n",
        "\n",
        "# Removing filler words and keeping disease names\n",
        "drug_snapshots %<>%\n",
        "  mutate(\n",
        "    `approved use` = str_replace(\n",
        "      `approved use`, \"^[A-Z]\", str_to_lower(str_sub(`approved use`, 1, 1))\n",
        "    ),\n",
        "    `approved use` = if_else(\n",
        "      str_detect(`approved use`, \"[Ff]or\"),\n",
        "      str_remove_all(`approved use`, \"[Ff]or\"),\n",
        "      `approved use`\n",
        "    ),\n",
        "    `approved use` = if_else(\n",
        "      str_detect(`approved use`, \"\\\\.\"),\n",
        "      str_remove(`approved use`, \"\\\\.$\"),\n",
        "      `approved use`\n",
        "    ),\n",
        "    `approved use` = if_else(\n",
        "      str_detect(`approved use`, \"associated with\"),\n",
        "      str_remove_all(`approved use`, \"associated with \"),\n",
        "      `approved use`\n",
        "    ),\n",
        "    `approved use` = if_else(\n",
        "      str_detect(`approved use`, \"adults who\"),\n",
        "      str_remove_all(`approved use`, \"(?=(, adults who)).*\"),\n",
        "      `approved use`\n",
        "    ),\n",
        "    `approved use` = if_else(\n",
        "      str_detect(`approved use`, \"patients two\"),\n",
        "      str_remove_all(`approved use`, \"(?=(, patients two)).*\"),\n",
        "      `approved use`\n",
        "    ),\n",
        "    # Additional cleanup: Remove leading whitespace and \"the \" at the start\n",
        "    `approved use` = str_trim(`approved use`),\n",
        "    `approved use` = str_replace(`approved use`, \"^the \", \"\")\n",
        "  )"
      ],
      "id": "d5c89f2b-6dbb-4bea-952a-4ab82ad131a4"
    },
    {
      "cell_type": "code",
      "execution_count": null,
      "metadata": {},
      "outputs": [
        {
          "output_type": "stream",
          "name": "stdout",
          "text": [
            "  brand name         drug name         approval date        approved use      \n",
            " Length:447         Length:447         Min.   :2014-05-08   Length:447        \n",
            " Class :character   Class :character   1st Qu.:2017-08-29   Class :character  \n",
            " Mode  :character   Mode  :character   Median :2019-10-21   Mode  :character  \n",
            "                                       Mean   :2019-10-12                     \n",
            "                                       3rd Qu.:2021-11-23                     \n",
            "                                       Max.   :2024-08-14                     \n",
            "                                       NA's   :2                              "
          ]
        }
      ],
      "source": [
        "drug_snapshots %>% summary()"
      ],
      "id": "e73abb8c-9e65-492e-afb3-9377ba2e9cf9"
    },
    {
      "cell_type": "code",
      "execution_count": null,
      "metadata": {},
      "outputs": [
        {
          "output_type": "stream",
          "name": "stdout",
          "text": [
            "  brand name         drug name         approval date        approved use      \n",
            " Length:445         Length:445         Min.   :2014-05-08   Length:445        \n",
            " Class :character   Class :character   1st Qu.:2017-08-29   Class :character  \n",
            " Mode  :character   Mode  :character   Median :2019-10-21   Mode  :character  \n",
            "                                       Mean   :2019-10-12                     \n",
            "                                       3rd Qu.:2021-11-23                     \n",
            "                                       Max.   :2024-08-14                     "
          ]
        }
      ],
      "source": [
        "drug_snapshots %<>%\n",
        "drop_na(., `approval date`)\n",
        "drug_snapshots %>% summary()"
      ],
      "id": "e16d5512-32de-4a19-b0ea-dc417df823d7"
    },
    {
      "cell_type": "code",
      "execution_count": null,
      "metadata": {},
      "outputs": [
        {
          "output_type": "display_data",
          "metadata": {},
          "data": {}
        }
      ],
      "source": [
        "# 5. Final tibble\n",
        "drug_snapshots %>%\n",
        "  slice_sample(n = 5) %>%\n",
        "  kable()"
      ],
      "id": "8847bcf4-13d7-45c2-b67e-231b64908f03"
    },
    {
      "cell_type": "markdown",
      "metadata": {},
      "source": [
        "## Iteration 5\n",
        "\n",
        "### Phase 1\n",
        "\n",
        "1\\) Inner join both tibbles\n",
        "\n",
        "2\\) Display final tibble"
      ],
      "id": "fad46908-6ebf-401a-b8d9-c1eef986ebfb"
    },
    {
      "cell_type": "code",
      "execution_count": null,
      "metadata": {},
      "outputs": [
        {
          "output_type": "stream",
          "name": "stdout",
          "text": [
            "Rows: 843\n",
            "Columns: 11\n",
            "$ `brand name`    <chr> \"ADDYI\", \"ADDYI\", \"ADDYI\", \"ADDYI\", \"ADDYI\", \"ADDYI\", …\n",
            "$ indication      <chr> \"treatment of acquired, generalized hypoactive sexual …\n",
            "$ women           <dbl> 100, 100, 100, 100, 100, 100, 100, 100, 100, 100, 100,…\n",
            "$ year            <date> 2015-01-01, 2015-01-01, 2015-01-01, 2015-01-01, 2015-…\n",
            "$ race            <fct> other, other, other, asian, asian, asian, black, black…\n",
            "$ `percent race`  <dbl> 2, 2, 2, 1, 1, 1, 8, 8, 8, 89, 89, 89, 1, 1, 7, 91, 1,…\n",
            "$ age             <fct> 65 to 74, 75 to 79, 80 and up, 65 to 74, 75 to 79, 80 …\n",
            "$ `percent age`   <dbl> 0, 0, 0, 0, 0, 0, 0, 0, 0, 0, 0, 0, 45, 45, 45, 45, 32…\n",
            "$ `drug name`     <chr> \"flibanserin\", \"flibanserin\", \"flibanserin\", \"flibanse…\n",
            "$ `approval date` <date> 2015-08-18, 2015-08-18, 2015-08-18, 2015-08-18, 2015-…\n",
            "$ `approved use`  <chr> \"treatment, (HSDD)\", \"treatment, (HSDD)\", \"treatment, …"
          ]
        }
      ],
      "source": [
        "# Join tibbles\n",
        "clinical_demographics <- inner_join(clinical_data, drug_snapshots, by = \"brand name\", relationship = \"many-to-many\")\n",
        "\n",
        "clinical_demographics %>%\n",
        "glimpse()"
      ],
      "id": "db11ee76-01d4-47c8-bdc5-4c33fd41ac7c"
    },
    {
      "cell_type": "markdown",
      "metadata": {},
      "source": [
        "For the purposes of this project, I will be focusing on the clinical\n",
        "trials data to derive insights on clinical participant demographics. The\n",
        "drug snapshots adds more information to the initial table."
      ],
      "id": "1f51cf24-2bde-4dd9-aabd-5538932b4231"
    },
    {
      "cell_type": "code",
      "execution_count": null,
      "metadata": {},
      "outputs": [
        {
          "output_type": "display_data",
          "metadata": {},
          "data": {}
        }
      ],
      "source": [
        "# Final tibble\n",
        "clinical_demographics %>%\n",
        "slice_sample(n = 3) %>%\n",
        "kable()"
      ],
      "id": "3ef39d6f-4015-477a-8707-04e3acd1e034"
    },
    {
      "cell_type": "markdown",
      "metadata": {},
      "source": [
        "## Results and Visualization"
      ],
      "id": "db85b4cb-346e-4e5f-a8f5-a81935c100e5"
    },
    {
      "cell_type": "code",
      "execution_count": null,
      "metadata": {},
      "outputs": [
        {
          "output_type": "display_data",
          "metadata": {},
          "data": {
            "image/png": "[encoded data removed]"
          }
        }
      ],
      "source": [
        "p1 <- clinical_demographics %>%  \n",
        "  ggplot(aes(x = str_to_title(race), y = `percent race`)) +  \n",
        "  geom_violin(aes(fill = race, colour = race)) +  \n",
        "  geom_boxplot(width = 0.1) +  \n",
        "  geom_jitter(alpha = 0.1) +  \n",
        "  labs(  \n",
        "    x = \"Race\",   \n",
        "    y = \"Percent of People from Race\"  \n",
        "  ) +  \n",
        "  scale_color_viridis_d() +  \n",
        "  theme(legend.position = \"none\", plot.caption = element_text(hjust = 0))  \n",
        "\n",
        "p1 + facet_wrap(. ~ age, labeller = label_both) +  \n",
        "  guides(x = guide_axis(angle = 45)) +  \n",
        "  plot_annotation(title = \"Graph 1\")"
      ],
      "id": "ef9b7440-12dc-456e-a626-72acb21ed03c"
    },
    {
      "cell_type": "markdown",
      "metadata": {},
      "source": [
        "Graph 1 illustrates the distribution of clinical trial participants\n",
        "across different racial groups and age categories using box and violin\n",
        "plots.\n",
        "\n",
        "### **Age Groups:**\n",
        "\n",
        "-   **65 to 74**:\n",
        "\n",
        "    -   The “White” category shows a wide distribution, indicating\n",
        "        variability in the percentage of participants.\n",
        "\n",
        "    -   Other racial groups like “Asian,” “Black,” and “Other” have\n",
        "        narrower distributions, suggesting less variability.\n",
        "\n",
        "-   **75 to 79**:\n",
        "\n",
        "    -   The “White” category continues to show a wider spread, though\n",
        "        less pronounced than the 65 to 74 group.\n",
        "\n",
        "    -   Other racial groups maintain narrower distributions.\n",
        "\n",
        "-   **80 and up**:\n",
        "\n",
        "    -   The “White” category again shows a wider distribution,\n",
        "        indicating variability.\n",
        "\n",
        "    -   Other racial groups remain consistent with narrower spreads.\n",
        "\n",
        "### **Racial Distribution:**\n",
        "\n",
        "-   The majority of participants identify as “White,” with a significant\n",
        "    density of points indicating a higher percentage.\n",
        "\n",
        "-   Other racial groups have fewer participants, with distributions\n",
        "    centered around the mean and fewer outliers.\n",
        "\n",
        "### **Overall Trends:**\n",
        "\n",
        "-   The “White” category shows more variation across age groups, not\n",
        "    centered around the mean.\n",
        "\n",
        "-   Other racial groups show less variation, with percentages more\n",
        "    centered around the mean and some outliers."
      ],
      "id": "7bd222d8-4ba0-466a-8fa5-7a41600d6da5"
    },
    {
      "cell_type": "code",
      "execution_count": null,
      "metadata": {},
      "outputs": [
        {
          "output_type": "display_data",
          "metadata": {},
          "data": {
            "image/png": "[encoded data removed]"
          }
        }
      ],
      "source": [
        "p2 <- clinical_demographics %>%  \n",
        "  ggplot(aes(x = women)) +  \n",
        "  stat_ecdf() +  \n",
        "  geom_vline(aes(xintercept = 50), colour = \"red\") +  \n",
        "  labs(x = \"Percentage of Women Patients in the Trial\", y = \"Cumulative Frequency\") +  \n",
        "  facet_grid(age ~ str_to_title(race)) +  \n",
        "  guides(x = guide_axis(angle = 45)) +  \n",
        "  theme(axis.text.x = element_text(color = \"black\"), legend.position = \"none\")  \n",
        "\n",
        "p3 <- clinical_demographics %>%  \n",
        "  mutate(specific_values = FALSE) %>%  \n",
        "  bind_rows(data.frame(x = 50, specific_values = TRUE)) %>%  \n",
        "  mutate(y = ecdf(women)(x)) %>%  \n",
        "  ggplot(aes(x = women)) +  \n",
        "  stat_ecdf(data = . %>% filter(!specific_values), aes(colour = race)) +  \n",
        "  labs(x = \"Percentage of Women Patients in the Trial\", y = \"Cumulative Frequency\") +  \n",
        "  geom_segment(data = . %>%  \n",
        "    filter(specific_values), aes(y = y, x = 0, xend = x, yend = y), color = \"red\") +  \n",
        "  geom_segment(data = . %>%  \n",
        "    filter(specific_values), aes(y = 0, x = x, xend = x, yend = y), color = \"red\") +  \n",
        "  scale_color_viridis_d()  \n",
        "\n",
        "# Combine plots  \n",
        "combined_plot <- p2 + p3 +  \n",
        "  plot_annotation(  \n",
        "    title = \"Graph 2\",   \n",
        "    tag_levels = \"1\",   \n",
        "    tag_prefix = \"p\"  \n",
        "  ) +  \n",
        "  theme(plot.caption = element_text(hjust = 1))  \n",
        "\n",
        "# Print the combined plot  \n",
        "print(combined_plot)"
      ],
      "id": "1e284069-0dc0-48a4-950e-26274ac0c112"
    },
    {
      "cell_type": "markdown",
      "metadata": {},
      "source": [
        "P1 and p2 in graph 2 provide insights into the distribution of women\n",
        "participants in clinical trials, segmented by race and age groups.\n",
        "\n",
        "### **P1:**\n",
        "\n",
        "-   **Cumulative Frequency by Race and Age**:\n",
        "\n",
        "    -   This panel displays cumulative frequency plots for different\n",
        "        racial groups (Asian, Black, Other, White) across three age\n",
        "        categories: 65 to 74, 75 to 79, and 80 and up.\n",
        "\n",
        "    -   The overlapping distributions indicate that the percentage of\n",
        "        women participants is similar across racial groups, as the\n",
        "        curves for each race largely coincide.\n",
        "\n",
        "    -   However, there is a noticeable variation in the distribution of\n",
        "        women participants across age groups. Younger age groups show a\n",
        "        lower frequency of trials with 50% women participants compared\n",
        "        to older age groups, suggesting that older participants are more\n",
        "        likely to be represented in trials.\n",
        "\n",
        "### **P2:**\n",
        "\n",
        "-   **Overall Cumulative Frequency**:\n",
        "\n",
        "    -   This plot shows the cumulative frequency of women participants\n",
        "        across all trials, with a focus on the percentage of women.\n",
        "\n",
        "    -   The red vertical line at 50% indicates a threshold where the\n",
        "        frequency of trials with at least 50% women participants is\n",
        "        highlighted.\n",
        "\n",
        "    -   The cumulative distribution suggests that while there are trials\n",
        "        with a higher percentage of women, the overall representation is\n",
        "        still skewed, particularly in younger age groups.\n",
        "\n",
        "### **Key Observations:**\n",
        "\n",
        "1.  **Representation of Women**:\n",
        "\n",
        "    -   There is a larger representation of women in clinical trials for\n",
        "        older age groups compared to younger ones, as indicated by the\n",
        "        cumulative frequency plots.\n",
        "\n",
        "2.  **Racial Distribution**:\n",
        "\n",
        "    -   Across all age groups, the predominant race in clinical trials\n",
        "        is White/Caucasian, with similar distribution patterns among\n",
        "        different races, although this varies by age.\n",
        "\n",
        "3.  **Trial Participation**:\n",
        "\n",
        "    -   Despite a larger number of clinical trials involving younger\n",
        "        participants, the percentage of women in these trials is\n",
        "        relatively low, highlighting a disparity in representation.\n",
        "\n",
        "## Discussion\n",
        "\n",
        "The analysis of clinical trial demographics reveals a clear pattern\n",
        "regarding which population benefits most from drug trials and subsequent\n",
        "drug development. Based on the comprehensive data examination, White\n",
        "males between the ages of 65 and 74 emerge as the predominantly\n",
        "represented demographic in clinical trials. This overrepresentation\n",
        "creates a significant skew in drug development and testing, resulting in\n",
        "medications that are primarily validated for this specific demographic\n",
        "group.\n",
        "\n",
        "The implications of this demographic bias are far-reaching and\n",
        "problematic on multiple levels. When clinical trials consistently favor\n",
        "one demographic group, the resulting pharmaceutical developments are\n",
        "inherently more tailored to that population’s physiological\n",
        "characteristics and needs. This means that White males in their\n",
        "mid-to-late 60s and early 70s receive medications that have been\n",
        "extensively tested on individuals sharing their demographic profile,\n",
        "potentially leading to more predictable and effective treatment outcomes\n",
        "for this group.\n",
        "\n",
        "However, this bias creates substantial medical concerns for other\n",
        "demographic groups. The human body’s response to medications can vary\n",
        "significantly based on factors such as age, gender, racial background,\n",
        "and genetic makeup. When drugs are primarily tested on a narrow\n",
        "demographic segment, their effectiveness and potential side effects on\n",
        "other populations remain largely unknown until the medication enters\n",
        "widespread use. This creates a dangerous scenario where medications\n",
        "approved based on positive results in one demographic group may produce\n",
        "unexpected or potentially harmful effects in others.\n",
        "\n",
        "The medical implications of this bias extend beyond simple effectiveness\n",
        "concerns. Different populations may require different dosages,\n",
        "experience varying side effects, or respond differently to treatment\n",
        "protocols. Without adequate representation in clinical trials, these\n",
        "variations remain undiscovered during the testing phase, potentially\n",
        "endangering lives when the drugs are prescribed to members of\n",
        "underrepresented groups.\n",
        "\n",
        "This situation highlights the urgent need for reform in clinical trial\n",
        "recruitment and participation. To ensure safe and effective medical\n",
        "treatments for all populations, clinical trials must actively seek and\n",
        "include participants from diverse backgrounds, ages, and genders. This\n",
        "diversity in testing would lead to more comprehensive understanding of\n",
        "drug effects across different demographic groups and ultimately result\n",
        "in safer, more effective medical treatments for the entire population.\n",
        "\n",
        "The current bias in clinical trials not only raises ethical concerns\n",
        "about equality in medical research but also presents a significant\n",
        "challenge to the fundamental goal of medicine: to provide safe and\n",
        "effective treatment for all patients, regardless of their demographic\n",
        "background. Moving forward, the medical research community must\n",
        "prioritize the development of more inclusive clinical trial protocols\n",
        "that ensure representation across all demographic groups, thereby\n",
        "working toward true equality in medicine and healthcare outcomes.\n",
        "\n",
        "## Conclusion\n",
        "\n",
        "In conclusion, the analysis of clinical trial demographics underscores a\n",
        "significant bias favoring White males aged 65 to 74, leading to skewed\n",
        "drug development outcomes that may not effectively serve other\n",
        "demographic groups. This over representation raises ethical and medical\n",
        "concerns, as medications validated primarily on this narrow population\n",
        "may pose risks or prove ineffective for women, younger individuals, and\n",
        "racial minorities. To address these disparities, it is crucial for the\n",
        "medical research community to implement more inclusive recruitment\n",
        "strategies that ensure diverse representation in clinical trials. By\n",
        "doing so, we can enhance the safety and efficacy of treatments for all\n",
        "patients, ultimately advancing equity in healthcare and improving health\n",
        "outcomes across the population.\n",
        "\n",
        "## References\n",
        "\n",
        "*Clinical Trials: Participant Demographic Data*. (n.d.). ProPublica Data\n",
        "Store.\n",
        "https://www.propublica.org/datastore/dataset/cancer-clinical-trials-demographics-data\n",
        "\n",
        "FDA. (2019). *Drug Trials Snapshots*. U.S. Food and Drug Administration.\n",
        "https://www.fda.gov/drugs/drug-approvals-and-databases/drug-trials-snapshots\n",
        "\n",
        "FDA. (2024). *Drug Trials Snapshots Summary Report (2015 and 2016)*.\n",
        "U.S. Food and Drug Administration.\n",
        "https://www.fda.gov/drugs/drug-approvals-and-databases/drug-trials-snapshots-summary-report-2015-and-2016"
      ],
      "id": "d274d915-8f22-40de-abf6-d0ad2373e756"
    }
  ],
  "nbformat": 4,
  "nbformat_minor": 5,
  "metadata": {
    "kernelspec": {
      "display_name": "Python 3",
      "language": "python",
      "name": "python3"
    }
  }
}